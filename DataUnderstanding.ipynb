{
 "cells": [
  {
   "cell_type": "markdown",
   "metadata": {
    "collapsed": true
   },
   "source": [
    "## Actitracker"
   ]
  },
  {
   "cell_type": "markdown",
   "metadata": {},
   "source": [
    "### Download data (Last Accessed: 10/10/17)"
   ]
  },
  {
   "cell_type": "code",
   "execution_count": null,
   "metadata": {},
   "outputs": [
    {
     "name": "stdout",
     "output_type": "stream",
     "text": [
      "--2017-10-10 10:24:31--  http://www.cis.fordham.edu/wisdm/includes/datasets/latest/WISDM_ar_latest.tar.gz\r\nResolving www.cis.fordham.edu... 150.108.68.29\r\nConnecting to www.cis.fordham.edu|150.108.68.29|:80... "
     ]
    },
    {
     "name": "stdout",
     "output_type": "stream",
     "text": [
      "connected.\r\nHTTP request sent, awaiting response... "
     ]
    },
    {
     "name": "stdout",
     "output_type": "stream",
     "text": [
      "200 OK\r\nLength: 11404612 (11M) [application/x-gzip]\r\nSaving to: ‘WISDM_ar_latest.tar.gz’\r\n\r\n\rWISDM_ar_latest.tar   0%[                    ]       0  --.-KB/s               "
     ]
    },
    {
     "name": "stdout",
     "output_type": "stream",
     "text": [
      "\rWISDM_ar_latest.tar   0%[                    ]  85.18K   345KB/s               "
     ]
    },
    {
     "name": "stdout",
     "output_type": "stream",
     "text": [
      "\rWISDM_ar_latest.tar   3%[                    ] 430.47K   873KB/s               "
     ]
    },
    {
     "name": "stdout",
     "output_type": "stream",
     "text": [
      "\rWISDM_ar_latest.tar   9%[>                   ]   1.07M  1.54MB/s               "
     ]
    },
    {
     "name": "stdout",
     "output_type": "stream",
     "text": [
      "\rWISDM_ar_latest.tar  18%[==>                 ]   1.97M  2.21MB/s               "
     ]
    },
    {
     "name": "stdout",
     "output_type": "stream",
     "text": [
      "\rWISDM_ar_latest.tar  25%[====>               ]   2.82M  2.58MB/s               "
     ]
    },
    {
     "name": "stdout",
     "output_type": "stream",
     "text": [
      "\rWISDM_ar_latest.tar  34%[=====>              ]   3.78M  2.92MB/s               "
     ]
    },
    {
     "name": "stdout",
     "output_type": "stream",
     "text": [
      "\rWISDM_ar_latest.tar  43%[=======>            ]   4.76M  3.18MB/s               "
     ]
    },
    {
     "name": "stdout",
     "output_type": "stream",
     "text": [
      "\rWISDM_ar_latest.tar  52%[=========>          ]   5.72M  3.38MB/s               "
     ]
    },
    {
     "name": "stdout",
     "output_type": "stream",
     "text": [
      "\rWISDM_ar_latest.tar  61%[===========>        ]   6.70M  3.54MB/s               "
     ]
    },
    {
     "name": "stdout",
     "output_type": "stream",
     "text": [
      "\rWISDM_ar_latest.tar  70%[=============>      ]   7.66M  3.65MB/s               "
     ]
    },
    {
     "name": "stdout",
     "output_type": "stream",
     "text": [
      "\rWISDM_ar_latest.tar  78%[==============>     ]   8.55M  3.72MB/s               "
     ]
    },
    {
     "name": "stdout",
     "output_type": "stream",
     "text": [
      "\rWISDM_ar_latest.tar  86%[================>   ]   9.43M  3.78MB/s               "
     ]
    },
    {
     "name": "stdout",
     "output_type": "stream",
     "text": [
      "\rWISDM_ar_latest.tar  96%[==================> ]  10.45M  3.88MB/s               "
     ]
    },
    {
     "name": "stdout",
     "output_type": "stream",
     "text": [
      "\rWISDM_ar_latest.tar 100%[===================>]  10.88M  3.91MB/s    in 2.8s    \r\n\r\n"
     ]
    },
    {
     "name": "stdout",
     "output_type": "stream",
     "text": [
      "2017-10-10 10:24:34 (3.91 MB/s) - ‘WISDM_ar_latest.tar.gz’ saved [11404612/11404612]\r\n\r\n"
     ]
    },
    {
     "name": "stdout",
     "output_type": "stream",
     "text": [
      "x WISDM_ar_v1.1/\r\nx WISDM_ar_v1.1/readme.txt\r\nx WISDM_ar_v1.1/WISDM_ar_v1.1_raw.txt"
     ]
    },
    {
     "name": "stdout",
     "output_type": "stream",
     "text": [
      "\r\nx WISDM_ar_v1.1/WISDM_ar_v1.1_raw_about.txt\r\nx WISDM_ar_v1.1/WISDM_ar_v1.1_transformed.arff\r\nx WISDM_ar_v1.1/WISDM_ar_v1.1_trans_about.txt\r\n"
     ]
    }
   ],
   "source": [
    "!wget 'http://www.cis.fordham.edu/wisdm/includes/datasets/latest/WISDM_ar_latest.tar.gz' \n",
    "!tar -xvzf \"WISDM_ar_latest.tar.gz\"\n",
    "!rm \"WISDM_ar_latest.tar.gz\""
   ]
  },
  {
   "cell_type": "code",
   "execution_count": 42,
   "metadata": {
    "collapsed": false
   },
   "outputs": [],
   "source": [
    "%matplotlib inline\n",
    "import pandas as pd\n",
    "import numpy as np\n",
    "import matplotlib.pyplot as plt\n",
    "from scipy import signal\n",
    "import re\n",
    "import os"
   ]
  },
  {
   "cell_type": "code",
   "execution_count": 43,
   "metadata": {
    "collapsed": true
   },
   "outputs": [],
   "source": [
    "def readFile(filename):\n",
    "        return pd.read_csv(filename, names = [\"user\", \"activity\", \"timeastamp\", \"x\", 'y','z'])"
   ]
  },
  {
   "cell_type": "code",
   "execution_count": 44,
   "metadata": {
    "collapsed": true
   },
   "outputs": [],
   "source": [
    "def numNullVals(df):\n",
    "   numNull = pd.isnull(df).any(axis=1).sum()\n",
    "   print('Number of rows with null values: {}  which is {} of the dataset'.format( numNull, numNull/len(data)))"
   ]
  },
  {
   "cell_type": "markdown",
   "metadata": {},
   "source": [
    "### Read raw data"
   ]
  },
  {
   "cell_type": "code",
   "execution_count": 45,
   "metadata": {
    "collapsed": false
   },
   "outputs": [
    {
     "name": "stdout",
     "output_type": "stream",
     "text": [
      "Data shape: (1098204, 6)\n"
     ]
    }
   ],
   "source": [
    "cwd = os.getcwd()\n",
    "data = readFile(cwd+'/WISDM_ar_v1.1/WISDM_ar_v1.1_raw.txt')\n",
    "data.head()\n",
    "print('Data shape: {}'.format(data.shape))"
   ]
  },
  {
   "cell_type": "markdown",
   "metadata": {},
   "source": [
    "#### Semi-colon from the end of each row needs to be removed."
   ]
  },
  {
   "cell_type": "markdown",
   "metadata": {},
   "source": [
    "## Basic features of data\n",
    "### Number of row, users and activities"
   ]
  },
  {
   "cell_type": "code",
   "execution_count": 46,
   "metadata": {
    "collapsed": false
   },
   "outputs": [
    {
     "name": "stdout",
     "output_type": "stream",
     "text": [
      "Number of rows, columns: 1098204, 6\n"
     ]
    }
   ],
   "source": [
    "print('Number of rows, columns: {}, {}'.format(data.shape[0], data.shape[1]))"
   ]
  },
  {
   "cell_type": "code",
   "execution_count": 47,
   "metadata": {
    "collapsed": false
   },
   "outputs": [
    {
     "name": "stdout",
     "output_type": "stream",
     "text": [
      "Number of  users: 36\nUnique users:  [33 17 20 29 13 15  6 27 36 18 32 35 11 16  5 10 28 26 14 24 12 23  4 30 34\n  8 31 21  3 22  1  9 25  2  7 19]\n"
     ]
    }
   ],
   "source": [
    "print('Number of  users:', len(data.user.unique()))\n",
    "print('Unique users: ', data.user.unique())\n",
    "users = data.user.unique()"
   ]
  },
  {
   "cell_type": "code",
   "execution_count": 48,
   "metadata": {
    "collapsed": false
   },
   "outputs": [
    {
     "name": "stdout",
     "output_type": "stream",
     "text": [
      "Number of activities: 6\n\nActivity values: ['Jogging' 'Walking' 'Upstairs' 'Downstairs' 'Sitting' 'Standing']\n\nActivity counts:\nWalking       424398\nJogging       342176\nUpstairs      122869\nDownstairs    100427\nSitting        59939\nStanding       48395\nName: activity, dtype: int64\n\n"
     ]
    }
   ],
   "source": [
    "print('Number of activities: {}\\n'.format(len(data.activity.unique())))\n",
    "print('Activity values: {}\\n'.format(data.activity.unique()))\n",
    "print('Activity counts:\\n{}\\n'.format(data.activity.value_counts(dropna=False)))"
   ]
  },
  {
   "cell_type": "markdown",
   "metadata": {},
   "source": [
    "### Label distribution"
   ]
  },
  {
   "cell_type": "code",
   "execution_count": 49,
   "metadata": {
    "collapsed": false
   },
   "outputs": [
    {
     "data": {
      "image/png": "[encoded data removed]",
      "text/plain": [
       "<matplotlib.figure.Figure at 0x11c056940>"
      ]
     },
     "metadata": {},
     "output_type": "display_data"
    }
   ],
   "source": [
    "fig = plt.figure()\n",
    "labels = []\n",
    "label_counts = []\n",
    "# Place keys and values into list to maintain order. \n",
    "for k, v in data.activity.value_counts(dropna=False).items():\n",
    "    labels.append(k)\n",
    "    label_counts.append(v)\n",
    "y = np.arange(len(labels))\n",
    "plt.bar(y, label_counts )\n",
    "plt.xticks(y, labels)\n",
    "plt.ylabel('Activity count')\n",
    "plt.title('Activity')\n",
    "plt.show()\n",
    "fig.savefig('plot')"
   ]
  },
  {
   "cell_type": "markdown",
   "metadata": {},
   "source": [
    "### Data Types:"
   ]
  },
  {
   "cell_type": "code",
   "execution_count": 50,
   "metadata": {
    "collapsed": false
   },
   "outputs": [
    {
     "data": {
      "text/plain": [
       "user            int64\nactivity       object\ntimeastamp      int64\nx             float64\ny             float64\nz              object\ndtype: object"
      ]
     },
     "execution_count": 50,
     "metadata": {},
     "output_type": "execute_result"
    }
   ],
   "source": [
    "data.dtypes"
   ]
  },
  {
   "cell_type": "markdown",
   "metadata": {},
   "source": [
    "#### 'z' channel is an object, being read in as a string because of semi-colon at the end (numpy array elements all need to be the same length so strings stored as objects)"
   ]
  },
  {
   "cell_type": "markdown",
   "metadata": {},
   "source": [
    "### Null values"
   ]
  },
  {
   "cell_type": "markdown",
   "metadata": {},
   "source": [
    "#### Count number of null values"
   ]
  },
  {
   "cell_type": "code",
   "execution_count": 51,
   "metadata": {
    "collapsed": false
   },
   "outputs": [
    {
     "name": "stdout",
     "output_type": "stream",
     "text": [
      "Number of rows with null values: 1  which is 9.10577634027922e-07 of the dataset\n"
     ]
    }
   ],
   "source": [
    "numNullVals(data)"
   ]
  },
  {
   "cell_type": "code",
   "execution_count": 52,
   "metadata": {
    "collapsed": false
   },
   "outputs": [
    {
     "data": {
      "text/html": [
       "<div>\n",
       "<style>\n",
       "    .dataframe thead tr:only-child th {\n",
       "        text-align: right;\n",
       "    }\n",
       "\n",
       "    .dataframe thead th {\n",
       "        text-align: left;\n",
       "    }\n",
       "\n",
       "    .dataframe tbody tr th {\n",
       "        vertical-align: top;\n",
       "    }\n",
       "</style>\n",
       "<table border=\"1\" class=\"dataframe\">\n",
       "  <thead>\n",
       "    <tr style=\"text-align: right;\">\n",
       "      <th></th>\n",
       "      <th>user</th>\n",
       "      <th>activity</th>\n",
       "      <th>timeastamp</th>\n",
       "      <th>x</th>\n",
       "      <th>y</th>\n",
       "      <th>z</th>\n",
       "    </tr>\n",
       "  </thead>\n",
       "  <tbody>\n",
       "    <tr>\n",
       "      <th>343416</th>\n",
       "      <td>11</td>\n",
       "      <td>Walking</td>\n",
       "      <td>1867172313000</td>\n",
       "      <td>4.4</td>\n",
       "      <td>4.4</td>\n",
       "      <td>NaN</td>\n",
       "    </tr>\n",
       "  </tbody>\n",
       "</table>\n",
       "</div>"
      ],
      "text/plain": [
       "<div>\n",
       "<style>\n",
       "    .dataframe thead tr:only-child th {\n",
       "        text-align: right;\n",
       "    }\n",
       "\n",
       "    .dataframe thead th {\n",
       "        text-align: left;\n",
       "    }\n",
       "\n",
       "    .dataframe tbody tr th {\n",
       "        vertical-align: top;\n",
       "    }\n",
       "</style>\n",
       "<table border=\"1\" class=\"dataframe\">\n",
       "  <thead>\n",
       "    <tr style=\"text-align: right;\">\n",
       "      <th></th>\n",
       "      <th>user</th>\n",
       "      <th>activity</th>\n",
       "      <th>timeastamp</th>\n",
       "      <th>x</th>\n",
       "      <th>y</th>\n",
       "      <th>z</th>\n",
       "    </tr>\n",
       "  </thead>\n",
       "  <tbody>\n",
       "    <tr>\n",
       "      <th>343416</th>\n",
       "      <td>11</td>\n",
       "      <td>Walking</td>\n",
       "      <td>1867172313000</td>\n",
       "      <td>4.4</td>\n",
       "      <td>4.4</td>\n",
       "      <td>NaN</td>\n",
       "    </tr>\n",
       "  </tbody>\n",
       "</table>\n",
       "</div>"
      ]
     },
     "execution_count": 52,
     "metadata": {},
     "output_type": "execute_result"
    }
   ],
   "source": [
    "null_rows = data[data.isnull().any(axis=1)]\n",
    "null_rows.head()"
   ]
  },
  {
   "cell_type": "code",
   "execution_count": 53,
   "metadata": {
    "collapsed": false
   },
   "outputs": [
    {
     "name": "stdout",
     "output_type": "stream",
     "text": [
      "Number of rows where all accelerometer data is null:  1\n"
     ]
    }
   ],
   "source": [
    "all_sensors_null = data.loc[(data.x.isnull()) & (data.y.isnull()) & (data.z.isnull())]\n",
    "print('Number of rows where all accelerometer data is null: ',len(null_rows))"
   ]
  },
  {
   "cell_type": "markdown",
   "metadata": {},
   "source": [
    "#### Number of unique users that had periods of null sensor readings: "
   ]
  },
  {
   "cell_type": "code",
   "execution_count": 54,
   "metadata": {
    "collapsed": false
   },
   "outputs": [
    {
     "data": {
      "text/plain": [
       "11    1\nName: user, dtype: int64"
      ]
     },
     "execution_count": 54,
     "metadata": {},
     "output_type": "execute_result"
    }
   ],
   "source": [
    "null_rows['user'].value_counts()"
   ]
  },
  {
   "cell_type": "markdown",
   "metadata": {},
   "source": [
    "### Remove semi-colons from the z axis. "
   ]
  },
  {
   "cell_type": "code",
   "execution_count": 55,
   "metadata": {
    "collapsed": false
   },
   "outputs": [],
   "source": [
    "#Remove semi-colons at the end of each line (first have to convert to string).\n",
    "removeSemi = lambda x: re.sub(r\";\", \" \" , x)\n",
    "data['z'] = data['z'].astype(str)\n",
    "data['z'] = data['z'].apply(removeSemi)"
   ]
  },
  {
   "cell_type": "markdown",
   "metadata": {},
   "source": [
    "#### Convert z axis to numeric: Any non-numeric values get NaN values. "
   ]
  },
  {
   "cell_type": "code",
   "execution_count": 57,
   "metadata": {},
   "outputs": [],
   "source": [
    "z = data['z']\n",
    "z = pd.to_numeric(z, errors='coerce')"
   ]
  },
  {
   "cell_type": "markdown",
   "metadata": {},
   "source": [
    "#### Get index of bad values"
   ]
  },
  {
   "cell_type": "code",
   "execution_count": 58,
   "metadata": {},
   "outputs": [],
   "source": [
    "bad_samples = z.index[z.apply(np.isnan)]"
   ]
  },
  {
   "cell_type": "code",
   "execution_count": 59,
   "metadata": {
    "collapsed": false
   },
   "outputs": [
    {
     "data": {
      "text/html": [
       "<div>\n",
       "<style>\n",
       "    .dataframe thead tr:only-child th {\n",
       "        text-align: right;\n",
       "    }\n",
       "\n",
       "    .dataframe thead th {\n",
       "        text-align: left;\n",
       "    }\n",
       "\n",
       "    .dataframe tbody tr th {\n",
       "        vertical-align: top;\n",
       "    }\n",
       "</style>\n",
       "<table border=\"1\" class=\"dataframe\">\n",
       "  <thead>\n",
       "    <tr style=\"text-align: right;\">\n",
       "      <th></th>\n",
       "      <th>user</th>\n",
       "      <th>activity</th>\n",
       "      <th>timeastamp</th>\n",
       "      <th>x</th>\n",
       "      <th>y</th>\n",
       "      <th>z</th>\n",
       "    </tr>\n",
       "  </thead>\n",
       "  <tbody>\n",
       "    <tr>\n",
       "      <th>134633</th>\n",
       "      <td>13</td>\n",
       "      <td>Downstairs</td>\n",
       "      <td>3498732310000</td>\n",
       "      <td>5.13</td>\n",
       "      <td>10.42</td>\n",
       "      <td>4.671779 15</td>\n",
       "    </tr>\n",
       "    <tr>\n",
       "      <th>197686</th>\n",
       "      <td>27</td>\n",
       "      <td>Jogging</td>\n",
       "      <td>10814072309000</td>\n",
       "      <td>4.21</td>\n",
       "      <td>-0.65</td>\n",
       "      <td>-0.6537767 27</td>\n",
       "    </tr>\n",
       "    <tr>\n",
       "      <th>273260</th>\n",
       "      <td>18</td>\n",
       "      <td>Jogging</td>\n",
       "      <td>0</td>\n",
       "      <td>0.00</td>\n",
       "      <td>0.00</td>\n",
       "      <td>0.0 18</td>\n",
       "    </tr>\n",
       "    <tr>\n",
       "      <th>343416</th>\n",
       "      <td>11</td>\n",
       "      <td>Walking</td>\n",
       "      <td>1867172313000</td>\n",
       "      <td>4.40</td>\n",
       "      <td>4.40</td>\n",
       "      <td>nan</td>\n",
       "    </tr>\n",
       "    <tr>\n",
       "      <th>371928</th>\n",
       "      <td>16</td>\n",
       "      <td>Downstairs</td>\n",
       "      <td>7160742320000</td>\n",
       "      <td>4.79</td>\n",
       "      <td>7.31</td>\n",
       "      <td>-4.0588636 5</td>\n",
       "    </tr>\n",
       "    <tr>\n",
       "      <th>711479</th>\n",
       "      <td>30</td>\n",
       "      <td>Standing</td>\n",
       "      <td>1729732341000</td>\n",
       "      <td>-1.80</td>\n",
       "      <td>9.28</td>\n",
       "      <td>3.79 34</td>\n",
       "    </tr>\n",
       "  </tbody>\n",
       "</table>\n",
       "</div>"
      ],
      "text/plain": [
       "<div>\n",
       "<style>\n",
       "    .dataframe thead tr:only-child th {\n",
       "        text-align: right;\n",
       "    }\n",
       "\n",
       "    .dataframe thead th {\n",
       "        text-align: left;\n",
       "    }\n",
       "\n",
       "    .dataframe tbody tr th {\n",
       "        vertical-align: top;\n",
       "    }\n",
       "</style>\n",
       "<table border=\"1\" class=\"dataframe\">\n",
       "  <thead>\n",
       "    <tr style=\"text-align: right;\">\n",
       "      <th></th>\n",
       "      <th>user</th>\n",
       "      <th>activity</th>\n",
       "      <th>timeastamp</th>\n",
       "      <th>x</th>\n",
       "      <th>y</th>\n",
       "      <th>z</th>\n",
       "    </tr>\n",
       "  </thead>\n",
       "  <tbody>\n",
       "    <tr>\n",
       "      <th>134633</th>\n",
       "      <td>13</td>\n",
       "      <td>Downstairs</td>\n",
       "      <td>3498732310000</td>\n",
       "      <td>5.13</td>\n",
       "      <td>10.42</td>\n",
       "      <td>4.671779 15</td>\n",
       "    </tr>\n",
       "    <tr>\n",
       "      <th>197686</th>\n",
       "      <td>27</td>\n",
       "      <td>Jogging</td>\n",
       "      <td>10814072309000</td>\n",
       "      <td>4.21</td>\n",
       "      <td>-0.65</td>\n",
       "      <td>-0.6537767 27</td>\n",
       "    </tr>\n",
       "    <tr>\n",
       "      <th>273260</th>\n",
       "      <td>18</td>\n",
       "      <td>Jogging</td>\n",
       "      <td>0</td>\n",
       "      <td>0.00</td>\n",
       "      <td>0.00</td>\n",
       "      <td>0.0 18</td>\n",
       "    </tr>\n",
       "    <tr>\n",
       "      <th>343416</th>\n",
       "      <td>11</td>\n",
       "      <td>Walking</td>\n",
       "      <td>1867172313000</td>\n",
       "      <td>4.40</td>\n",
       "      <td>4.40</td>\n",
       "      <td>nan</td>\n",
       "    </tr>\n",
       "    <tr>\n",
       "      <th>371928</th>\n",
       "      <td>16</td>\n",
       "      <td>Downstairs</td>\n",
       "      <td>7160742320000</td>\n",
       "      <td>4.79</td>\n",
       "      <td>7.31</td>\n",
       "      <td>-4.0588636 5</td>\n",
       "    </tr>\n",
       "    <tr>\n",
       "      <th>711479</th>\n",
       "      <td>30</td>\n",
       "      <td>Standing</td>\n",
       "      <td>1729732341000</td>\n",
       "      <td>-1.80</td>\n",
       "      <td>9.28</td>\n",
       "      <td>3.79 34</td>\n",
       "    </tr>\n",
       "  </tbody>\n",
       "</table>\n",
       "</div>"
      ]
     },
     "execution_count": 59,
     "metadata": {},
     "output_type": "execute_result"
    }
   ],
   "source": [
    "data.iloc[bad_samples]"
   ]
  },
  {
   "cell_type": "markdown",
   "metadata": {},
   "source": [
    "Semi colon in the middle of some of the data points, space in their place when removed. "
   ]
  },
  {
   "cell_type": "code",
   "execution_count": 60,
   "metadata": {},
   "outputs": [],
   "source": [
    "data[['x','y','z']] = data[['x','y','z']].apply(pd.to_numeric, errors='coerce')"
   ]
  },
  {
   "cell_type": "markdown",
   "metadata": {},
   "source": [
    "### Very few samples involved. Each sample checked to see if it is more appropriate to drop (at the end/beginning of an activity) or interpolate (in the middle of activity)."
   ]
  },
  {
   "cell_type": "code",
   "execution_count": 61,
   "metadata": {},
   "outputs": [
    {
     "data": {
      "text/html": [
       "<div>\n",
       "<style>\n",
       "    .dataframe thead tr:only-child th {\n",
       "        text-align: right;\n",
       "    }\n",
       "\n",
       "    .dataframe thead th {\n",
       "        text-align: left;\n",
       "    }\n",
       "\n",
       "    .dataframe tbody tr th {\n",
       "        vertical-align: top;\n",
       "    }\n",
       "</style>\n",
       "<table border=\"1\" class=\"dataframe\">\n",
       "  <thead>\n",
       "    <tr style=\"text-align: right;\">\n",
       "      <th></th>\n",
       "      <th>user</th>\n",
       "      <th>activity</th>\n",
       "      <th>timeastamp</th>\n",
       "      <th>x</th>\n",
       "      <th>y</th>\n",
       "      <th>z</th>\n",
       "    </tr>\n",
       "  </thead>\n",
       "  <tbody>\n",
       "    <tr>\n",
       "      <th>134632</th>\n",
       "      <td>13</td>\n",
       "      <td>Downstairs</td>\n",
       "      <td>3498682201000</td>\n",
       "      <td>1.99</td>\n",
       "      <td>7.86</td>\n",
       "      <td>2.914754</td>\n",
       "    </tr>\n",
       "    <tr>\n",
       "      <th>134633</th>\n",
       "      <td>13</td>\n",
       "      <td>Downstairs</td>\n",
       "      <td>3498732310000</td>\n",
       "      <td>5.13</td>\n",
       "      <td>10.42</td>\n",
       "      <td>NaN</td>\n",
       "    </tr>\n",
       "    <tr>\n",
       "      <th>134634</th>\n",
       "      <td>15</td>\n",
       "      <td>Jogging</td>\n",
       "      <td>329032176000</td>\n",
       "      <td>-1.42</td>\n",
       "      <td>2.26</td>\n",
       "      <td>-5.625204</td>\n",
       "    </tr>\n",
       "  </tbody>\n",
       "</table>\n",
       "</div>"
      ],
      "text/plain": [
       "<div>\n",
       "<style>\n",
       "    .dataframe thead tr:only-child th {\n",
       "        text-align: right;\n",
       "    }\n",
       "\n",
       "    .dataframe thead th {\n",
       "        text-align: left;\n",
       "    }\n",
       "\n",
       "    .dataframe tbody tr th {\n",
       "        vertical-align: top;\n",
       "    }\n",
       "</style>\n",
       "<table border=\"1\" class=\"dataframe\">\n",
       "  <thead>\n",
       "    <tr style=\"text-align: right;\">\n",
       "      <th></th>\n",
       "      <th>user</th>\n",
       "      <th>activity</th>\n",
       "      <th>timeastamp</th>\n",
       "      <th>x</th>\n",
       "      <th>y</th>\n",
       "      <th>z</th>\n",
       "    </tr>\n",
       "  </thead>\n",
       "  <tbody>\n",
       "    <tr>\n",
       "      <th>134632</th>\n",
       "      <td>13</td>\n",
       "      <td>Downstairs</td>\n",
       "      <td>3498682201000</td>\n",
       "      <td>1.99</td>\n",
       "      <td>7.86</td>\n",
       "      <td>2.914754</td>\n",
       "    </tr>\n",
       "    <tr>\n",
       "      <th>134633</th>\n",
       "      <td>13</td>\n",
       "      <td>Downstairs</td>\n",
       "      <td>3498732310000</td>\n",
       "      <td>5.13</td>\n",
       "      <td>10.42</td>\n",
       "      <td>NaN</td>\n",
       "    </tr>\n",
       "    <tr>\n",
       "      <th>134634</th>\n",
       "      <td>15</td>\n",
       "      <td>Jogging</td>\n",
       "      <td>329032176000</td>\n",
       "      <td>-1.42</td>\n",
       "      <td>2.26</td>\n",
       "      <td>-5.625204</td>\n",
       "    </tr>\n",
       "  </tbody>\n",
       "</table>\n",
       "</div>"
      ]
     },
     "execution_count": 61,
     "metadata": {},
     "output_type": "execute_result"
    }
   ],
   "source": [
    "data.loc[134632:134634]"
   ]
  },
  {
   "cell_type": "code",
   "execution_count": 62,
   "metadata": {},
   "outputs": [
    {
     "data": {
      "text/html": [
       "<div>\n",
       "<style>\n",
       "    .dataframe thead tr:only-child th {\n",
       "        text-align: right;\n",
       "    }\n",
       "\n",
       "    .dataframe thead th {\n",
       "        text-align: left;\n",
       "    }\n",
       "\n",
       "    .dataframe tbody tr th {\n",
       "        vertical-align: top;\n",
       "    }\n",
       "</style>\n",
       "<table border=\"1\" class=\"dataframe\">\n",
       "  <thead>\n",
       "    <tr style=\"text-align: right;\">\n",
       "      <th></th>\n",
       "      <th>user</th>\n",
       "      <th>activity</th>\n",
       "      <th>timeastamp</th>\n",
       "      <th>x</th>\n",
       "      <th>y</th>\n",
       "      <th>z</th>\n",
       "    </tr>\n",
       "  </thead>\n",
       "  <tbody>\n",
       "    <tr>\n",
       "      <th>134632</th>\n",
       "      <td>13</td>\n",
       "      <td>Downstairs</td>\n",
       "      <td>3498682201000</td>\n",
       "      <td>1.99</td>\n",
       "      <td>7.86</td>\n",
       "      <td>2.914754</td>\n",
       "    </tr>\n",
       "    <tr>\n",
       "      <th>134634</th>\n",
       "      <td>15</td>\n",
       "      <td>Jogging</td>\n",
       "      <td>329032176000</td>\n",
       "      <td>-1.42</td>\n",
       "      <td>2.26</td>\n",
       "      <td>-5.625204</td>\n",
       "    </tr>\n",
       "  </tbody>\n",
       "</table>\n",
       "</div>"
      ],
      "text/plain": [
       "<div>\n",
       "<style>\n",
       "    .dataframe thead tr:only-child th {\n",
       "        text-align: right;\n",
       "    }\n",
       "\n",
       "    .dataframe thead th {\n",
       "        text-align: left;\n",
       "    }\n",
       "\n",
       "    .dataframe tbody tr th {\n",
       "        vertical-align: top;\n",
       "    }\n",
       "</style>\n",
       "<table border=\"1\" class=\"dataframe\">\n",
       "  <thead>\n",
       "    <tr style=\"text-align: right;\">\n",
       "      <th></th>\n",
       "      <th>user</th>\n",
       "      <th>activity</th>\n",
       "      <th>timeastamp</th>\n",
       "      <th>x</th>\n",
       "      <th>y</th>\n",
       "      <th>z</th>\n",
       "    </tr>\n",
       "  </thead>\n",
       "  <tbody>\n",
       "    <tr>\n",
       "      <th>134632</th>\n",
       "      <td>13</td>\n",
       "      <td>Downstairs</td>\n",
       "      <td>3498682201000</td>\n",
       "      <td>1.99</td>\n",
       "      <td>7.86</td>\n",
       "      <td>2.914754</td>\n",
       "    </tr>\n",
       "    <tr>\n",
       "      <th>134634</th>\n",
       "      <td>15</td>\n",
       "      <td>Jogging</td>\n",
       "      <td>329032176000</td>\n",
       "      <td>-1.42</td>\n",
       "      <td>2.26</td>\n",
       "      <td>-5.625204</td>\n",
       "    </tr>\n",
       "  </tbody>\n",
       "</table>\n",
       "</div>"
      ]
     },
     "execution_count": 62,
     "metadata": {},
     "output_type": "execute_result"
    }
   ],
   "source": [
    "data.loc[134632:134634]\n",
    "data = data.drop(134633)\n",
    "data.loc[134632:134634]"
   ]
  },
  {
   "cell_type": "code",
   "execution_count": 63,
   "metadata": {},
   "outputs": [
    {
     "data": {
      "text/html": [
       "<div>\n",
       "<style>\n",
       "    .dataframe thead tr:only-child th {\n",
       "        text-align: right;\n",
       "    }\n",
       "\n",
       "    .dataframe thead th {\n",
       "        text-align: left;\n",
       "    }\n",
       "\n",
       "    .dataframe tbody tr th {\n",
       "        vertical-align: top;\n",
       "    }\n",
       "</style>\n",
       "<table border=\"1\" class=\"dataframe\">\n",
       "  <thead>\n",
       "    <tr style=\"text-align: right;\">\n",
       "      <th></th>\n",
       "      <th>user</th>\n",
       "      <th>activity</th>\n",
       "      <th>timeastamp</th>\n",
       "      <th>x</th>\n",
       "      <th>y</th>\n",
       "      <th>z</th>\n",
       "    </tr>\n",
       "  </thead>\n",
       "  <tbody>\n",
       "    <tr>\n",
       "      <th>197685</th>\n",
       "      <td>27</td>\n",
       "      <td>Jogging</td>\n",
       "      <td>10814022199000</td>\n",
       "      <td>8.73</td>\n",
       "      <td>5.56</td>\n",
       "      <td>-2.72407</td>\n",
       "    </tr>\n",
       "    <tr>\n",
       "      <th>197686</th>\n",
       "      <td>27</td>\n",
       "      <td>Jogging</td>\n",
       "      <td>10814072309000</td>\n",
       "      <td>4.21</td>\n",
       "      <td>-0.65</td>\n",
       "      <td>NaN</td>\n",
       "    </tr>\n",
       "    <tr>\n",
       "      <th>197687</th>\n",
       "      <td>27</td>\n",
       "      <td>Jogging</td>\n",
       "      <td>0</td>\n",
       "      <td>0.00</td>\n",
       "      <td>0.00</td>\n",
       "      <td>0.00000</td>\n",
       "    </tr>\n",
       "  </tbody>\n",
       "</table>\n",
       "</div>"
      ],
      "text/plain": [
       "<div>\n",
       "<style>\n",
       "    .dataframe thead tr:only-child th {\n",
       "        text-align: right;\n",
       "    }\n",
       "\n",
       "    .dataframe thead th {\n",
       "        text-align: left;\n",
       "    }\n",
       "\n",
       "    .dataframe tbody tr th {\n",
       "        vertical-align: top;\n",
       "    }\n",
       "</style>\n",
       "<table border=\"1\" class=\"dataframe\">\n",
       "  <thead>\n",
       "    <tr style=\"text-align: right;\">\n",
       "      <th></th>\n",
       "      <th>user</th>\n",
       "      <th>activity</th>\n",
       "      <th>timeastamp</th>\n",
       "      <th>x</th>\n",
       "      <th>y</th>\n",
       "      <th>z</th>\n",
       "    </tr>\n",
       "  </thead>\n",
       "  <tbody>\n",
       "    <tr>\n",
       "      <th>197685</th>\n",
       "      <td>27</td>\n",
       "      <td>Jogging</td>\n",
       "      <td>10814022199000</td>\n",
       "      <td>8.73</td>\n",
       "      <td>5.56</td>\n",
       "      <td>-2.72407</td>\n",
       "    </tr>\n",
       "    <tr>\n",
       "      <th>197686</th>\n",
       "      <td>27</td>\n",
       "      <td>Jogging</td>\n",
       "      <td>10814072309000</td>\n",
       "      <td>4.21</td>\n",
       "      <td>-0.65</td>\n",
       "      <td>NaN</td>\n",
       "    </tr>\n",
       "    <tr>\n",
       "      <th>197687</th>\n",
       "      <td>27</td>\n",
       "      <td>Jogging</td>\n",
       "      <td>0</td>\n",
       "      <td>0.00</td>\n",
       "      <td>0.00</td>\n",
       "      <td>0.00000</td>\n",
       "    </tr>\n",
       "  </tbody>\n",
       "</table>\n",
       "</div>"
      ]
     },
     "execution_count": 63,
     "metadata": {},
     "output_type": "execute_result"
    }
   ],
   "source": [
    "data.loc[197685:197687]"
   ]
  },
  {
   "cell_type": "code",
   "execution_count": 64,
   "metadata": {},
   "outputs": [
    {
     "data": {
      "text/html": [
       "<div>\n",
       "<style>\n",
       "    .dataframe thead tr:only-child th {\n",
       "        text-align: right;\n",
       "    }\n",
       "\n",
       "    .dataframe thead th {\n",
       "        text-align: left;\n",
       "    }\n",
       "\n",
       "    .dataframe tbody tr th {\n",
       "        vertical-align: top;\n",
       "    }\n",
       "</style>\n",
       "<table border=\"1\" class=\"dataframe\">\n",
       "  <thead>\n",
       "    <tr style=\"text-align: right;\">\n",
       "      <th></th>\n",
       "      <th>user</th>\n",
       "      <th>activity</th>\n",
       "      <th>timeastamp</th>\n",
       "      <th>x</th>\n",
       "      <th>y</th>\n",
       "      <th>z</th>\n",
       "    </tr>\n",
       "  </thead>\n",
       "  <tbody>\n",
       "    <tr>\n",
       "      <th>197685</th>\n",
       "      <td>27</td>\n",
       "      <td>Jogging</td>\n",
       "      <td>10814022199000</td>\n",
       "      <td>8.73</td>\n",
       "      <td>5.56</td>\n",
       "      <td>-2.724070</td>\n",
       "    </tr>\n",
       "    <tr>\n",
       "      <th>197686</th>\n",
       "      <td>27</td>\n",
       "      <td>Jogging</td>\n",
       "      <td>10814072309000</td>\n",
       "      <td>4.21</td>\n",
       "      <td>-0.65</td>\n",
       "      <td>-1.362035</td>\n",
       "    </tr>\n",
       "    <tr>\n",
       "      <th>197687</th>\n",
       "      <td>27</td>\n",
       "      <td>Jogging</td>\n",
       "      <td>0</td>\n",
       "      <td>0.00</td>\n",
       "      <td>0.00</td>\n",
       "      <td>0.000000</td>\n",
       "    </tr>\n",
       "  </tbody>\n",
       "</table>\n",
       "</div>"
      ],
      "text/plain": [
       "<div>\n",
       "<style>\n",
       "    .dataframe thead tr:only-child th {\n",
       "        text-align: right;\n",
       "    }\n",
       "\n",
       "    .dataframe thead th {\n",
       "        text-align: left;\n",
       "    }\n",
       "\n",
       "    .dataframe tbody tr th {\n",
       "        vertical-align: top;\n",
       "    }\n",
       "</style>\n",
       "<table border=\"1\" class=\"dataframe\">\n",
       "  <thead>\n",
       "    <tr style=\"text-align: right;\">\n",
       "      <th></th>\n",
       "      <th>user</th>\n",
       "      <th>activity</th>\n",
       "      <th>timeastamp</th>\n",
       "      <th>x</th>\n",
       "      <th>y</th>\n",
       "      <th>z</th>\n",
       "    </tr>\n",
       "  </thead>\n",
       "  <tbody>\n",
       "    <tr>\n",
       "      <th>197685</th>\n",
       "      <td>27</td>\n",
       "      <td>Jogging</td>\n",
       "      <td>10814022199000</td>\n",
       "      <td>8.73</td>\n",
       "      <td>5.56</td>\n",
       "      <td>-2.724070</td>\n",
       "    </tr>\n",
       "    <tr>\n",
       "      <th>197686</th>\n",
       "      <td>27</td>\n",
       "      <td>Jogging</td>\n",
       "      <td>10814072309000</td>\n",
       "      <td>4.21</td>\n",
       "      <td>-0.65</td>\n",
       "      <td>-1.362035</td>\n",
       "    </tr>\n",
       "    <tr>\n",
       "      <th>197687</th>\n",
       "      <td>27</td>\n",
       "      <td>Jogging</td>\n",
       "      <td>0</td>\n",
       "      <td>0.00</td>\n",
       "      <td>0.00</td>\n",
       "      <td>0.000000</td>\n",
       "    </tr>\n",
       "  </tbody>\n",
       "</table>\n",
       "</div>"
      ]
     },
     "execution_count": 64,
     "metadata": {},
     "output_type": "execute_result"
    }
   ],
   "source": [
    "data.loc[197685:197687] = data.loc[197685:197687].interpolate()\n",
    "data.loc[197685:197687]"
   ]
  },
  {
   "cell_type": "code",
   "execution_count": 65,
   "metadata": {},
   "outputs": [
    {
     "data": {
      "text/html": [
       "<div>\n",
       "<style>\n",
       "    .dataframe thead tr:only-child th {\n",
       "        text-align: right;\n",
       "    }\n",
       "\n",
       "    .dataframe thead th {\n",
       "        text-align: left;\n",
       "    }\n",
       "\n",
       "    .dataframe tbody tr th {\n",
       "        vertical-align: top;\n",
       "    }\n",
       "</style>\n",
       "<table border=\"1\" class=\"dataframe\">\n",
       "  <thead>\n",
       "    <tr style=\"text-align: right;\">\n",
       "      <th></th>\n",
       "      <th>user</th>\n",
       "      <th>activity</th>\n",
       "      <th>timeastamp</th>\n",
       "      <th>x</th>\n",
       "      <th>y</th>\n",
       "      <th>z</th>\n",
       "    </tr>\n",
       "  </thead>\n",
       "  <tbody>\n",
       "    <tr>\n",
       "      <th>273259</th>\n",
       "      <td>18</td>\n",
       "      <td>Jogging</td>\n",
       "      <td>0</td>\n",
       "      <td>0.0</td>\n",
       "      <td>0.0</td>\n",
       "      <td>0.0</td>\n",
       "    </tr>\n",
       "    <tr>\n",
       "      <th>273260</th>\n",
       "      <td>18</td>\n",
       "      <td>Jogging</td>\n",
       "      <td>0</td>\n",
       "      <td>0.0</td>\n",
       "      <td>0.0</td>\n",
       "      <td>NaN</td>\n",
       "    </tr>\n",
       "    <tr>\n",
       "      <th>273261</th>\n",
       "      <td>18</td>\n",
       "      <td>Jogging</td>\n",
       "      <td>0</td>\n",
       "      <td>0.0</td>\n",
       "      <td>0.0</td>\n",
       "      <td>0.0</td>\n",
       "    </tr>\n",
       "  </tbody>\n",
       "</table>\n",
       "</div>"
      ],
      "text/plain": [
       "<div>\n",
       "<style>\n",
       "    .dataframe thead tr:only-child th {\n",
       "        text-align: right;\n",
       "    }\n",
       "\n",
       "    .dataframe thead th {\n",
       "        text-align: left;\n",
       "    }\n",
       "\n",
       "    .dataframe tbody tr th {\n",
       "        vertical-align: top;\n",
       "    }\n",
       "</style>\n",
       "<table border=\"1\" class=\"dataframe\">\n",
       "  <thead>\n",
       "    <tr style=\"text-align: right;\">\n",
       "      <th></th>\n",
       "      <th>user</th>\n",
       "      <th>activity</th>\n",
       "      <th>timeastamp</th>\n",
       "      <th>x</th>\n",
       "      <th>y</th>\n",
       "      <th>z</th>\n",
       "    </tr>\n",
       "  </thead>\n",
       "  <tbody>\n",
       "    <tr>\n",
       "      <th>273259</th>\n",
       "      <td>18</td>\n",
       "      <td>Jogging</td>\n",
       "      <td>0</td>\n",
       "      <td>0.0</td>\n",
       "      <td>0.0</td>\n",
       "      <td>0.0</td>\n",
       "    </tr>\n",
       "    <tr>\n",
       "      <th>273260</th>\n",
       "      <td>18</td>\n",
       "      <td>Jogging</td>\n",
       "      <td>0</td>\n",
       "      <td>0.0</td>\n",
       "      <td>0.0</td>\n",
       "      <td>NaN</td>\n",
       "    </tr>\n",
       "    <tr>\n",
       "      <th>273261</th>\n",
       "      <td>18</td>\n",
       "      <td>Jogging</td>\n",
       "      <td>0</td>\n",
       "      <td>0.0</td>\n",
       "      <td>0.0</td>\n",
       "      <td>0.0</td>\n",
       "    </tr>\n",
       "  </tbody>\n",
       "</table>\n",
       "</div>"
      ]
     },
     "execution_count": 65,
     "metadata": {},
     "output_type": "execute_result"
    }
   ],
   "source": [
    "data.loc[273259:273261]"
   ]
  },
  {
   "cell_type": "code",
   "execution_count": 66,
   "metadata": {},
   "outputs": [
    {
     "data": {
      "text/html": [
       "<div>\n",
       "<style>\n",
       "    .dataframe thead tr:only-child th {\n",
       "        text-align: right;\n",
       "    }\n",
       "\n",
       "    .dataframe thead th {\n",
       "        text-align: left;\n",
       "    }\n",
       "\n",
       "    .dataframe tbody tr th {\n",
       "        vertical-align: top;\n",
       "    }\n",
       "</style>\n",
       "<table border=\"1\" class=\"dataframe\">\n",
       "  <thead>\n",
       "    <tr style=\"text-align: right;\">\n",
       "      <th></th>\n",
       "      <th>user</th>\n",
       "      <th>activity</th>\n",
       "      <th>timeastamp</th>\n",
       "      <th>x</th>\n",
       "      <th>y</th>\n",
       "      <th>z</th>\n",
       "    </tr>\n",
       "  </thead>\n",
       "  <tbody>\n",
       "    <tr>\n",
       "      <th>273259</th>\n",
       "      <td>18</td>\n",
       "      <td>Jogging</td>\n",
       "      <td>0</td>\n",
       "      <td>0.0</td>\n",
       "      <td>0.0</td>\n",
       "      <td>0.0</td>\n",
       "    </tr>\n",
       "    <tr>\n",
       "      <th>273260</th>\n",
       "      <td>18</td>\n",
       "      <td>Jogging</td>\n",
       "      <td>0</td>\n",
       "      <td>0.0</td>\n",
       "      <td>0.0</td>\n",
       "      <td>0.0</td>\n",
       "    </tr>\n",
       "    <tr>\n",
       "      <th>273261</th>\n",
       "      <td>18</td>\n",
       "      <td>Jogging</td>\n",
       "      <td>0</td>\n",
       "      <td>0.0</td>\n",
       "      <td>0.0</td>\n",
       "      <td>0.0</td>\n",
       "    </tr>\n",
       "  </tbody>\n",
       "</table>\n",
       "</div>"
      ],
      "text/plain": [
       "<div>\n",
       "<style>\n",
       "    .dataframe thead tr:only-child th {\n",
       "        text-align: right;\n",
       "    }\n",
       "\n",
       "    .dataframe thead th {\n",
       "        text-align: left;\n",
       "    }\n",
       "\n",
       "    .dataframe tbody tr th {\n",
       "        vertical-align: top;\n",
       "    }\n",
       "</style>\n",
       "<table border=\"1\" class=\"dataframe\">\n",
       "  <thead>\n",
       "    <tr style=\"text-align: right;\">\n",
       "      <th></th>\n",
       "      <th>user</th>\n",
       "      <th>activity</th>\n",
       "      <th>timeastamp</th>\n",
       "      <th>x</th>\n",
       "      <th>y</th>\n",
       "      <th>z</th>\n",
       "    </tr>\n",
       "  </thead>\n",
       "  <tbody>\n",
       "    <tr>\n",
       "      <th>273259</th>\n",
       "      <td>18</td>\n",
       "      <td>Jogging</td>\n",
       "      <td>0</td>\n",
       "      <td>0.0</td>\n",
       "      <td>0.0</td>\n",
       "      <td>0.0</td>\n",
       "    </tr>\n",
       "    <tr>\n",
       "      <th>273260</th>\n",
       "      <td>18</td>\n",
       "      <td>Jogging</td>\n",
       "      <td>0</td>\n",
       "      <td>0.0</td>\n",
       "      <td>0.0</td>\n",
       "      <td>0.0</td>\n",
       "    </tr>\n",
       "    <tr>\n",
       "      <th>273261</th>\n",
       "      <td>18</td>\n",
       "      <td>Jogging</td>\n",
       "      <td>0</td>\n",
       "      <td>0.0</td>\n",
       "      <td>0.0</td>\n",
       "      <td>0.0</td>\n",
       "    </tr>\n",
       "  </tbody>\n",
       "</table>\n",
       "</div>"
      ]
     },
     "execution_count": 66,
     "metadata": {},
     "output_type": "execute_result"
    }
   ],
   "source": [
    "data.loc[273259:273261] = data.loc[273259:273261].interpolate()\n",
    "data.loc[273259:273261]"
   ]
  },
  {
   "cell_type": "code",
   "execution_count": 67,
   "metadata": {},
   "outputs": [
    {
     "data": {
      "text/html": [
       "<div>\n",
       "<style>\n",
       "    .dataframe thead tr:only-child th {\n",
       "        text-align: right;\n",
       "    }\n",
       "\n",
       "    .dataframe thead th {\n",
       "        text-align: left;\n",
       "    }\n",
       "\n",
       "    .dataframe tbody tr th {\n",
       "        vertical-align: top;\n",
       "    }\n",
       "</style>\n",
       "<table border=\"1\" class=\"dataframe\">\n",
       "  <thead>\n",
       "    <tr style=\"text-align: right;\">\n",
       "      <th></th>\n",
       "      <th>user</th>\n",
       "      <th>activity</th>\n",
       "      <th>timeastamp</th>\n",
       "      <th>x</th>\n",
       "      <th>y</th>\n",
       "      <th>z</th>\n",
       "    </tr>\n",
       "  </thead>\n",
       "  <tbody>\n",
       "    <tr>\n",
       "      <th>343415</th>\n",
       "      <td>11</td>\n",
       "      <td>Walking</td>\n",
       "      <td>1787072368000</td>\n",
       "      <td>-2.56</td>\n",
       "      <td>8.58</td>\n",
       "      <td>1.879608</td>\n",
       "    </tr>\n",
       "    <tr>\n",
       "      <th>343416</th>\n",
       "      <td>11</td>\n",
       "      <td>Walking</td>\n",
       "      <td>1867172313000</td>\n",
       "      <td>4.40</td>\n",
       "      <td>4.40</td>\n",
       "      <td>NaN</td>\n",
       "    </tr>\n",
       "    <tr>\n",
       "      <th>343417</th>\n",
       "      <td>11</td>\n",
       "      <td>Walking</td>\n",
       "      <td>1867222270000</td>\n",
       "      <td>5.48</td>\n",
       "      <td>8.43</td>\n",
       "      <td>9.724928</td>\n",
       "    </tr>\n",
       "  </tbody>\n",
       "</table>\n",
       "</div>"
      ],
      "text/plain": [
       "<div>\n",
       "<style>\n",
       "    .dataframe thead tr:only-child th {\n",
       "        text-align: right;\n",
       "    }\n",
       "\n",
       "    .dataframe thead th {\n",
       "        text-align: left;\n",
       "    }\n",
       "\n",
       "    .dataframe tbody tr th {\n",
       "        vertical-align: top;\n",
       "    }\n",
       "</style>\n",
       "<table border=\"1\" class=\"dataframe\">\n",
       "  <thead>\n",
       "    <tr style=\"text-align: right;\">\n",
       "      <th></th>\n",
       "      <th>user</th>\n",
       "      <th>activity</th>\n",
       "      <th>timeastamp</th>\n",
       "      <th>x</th>\n",
       "      <th>y</th>\n",
       "      <th>z</th>\n",
       "    </tr>\n",
       "  </thead>\n",
       "  <tbody>\n",
       "    <tr>\n",
       "      <th>343415</th>\n",
       "      <td>11</td>\n",
       "      <td>Walking</td>\n",
       "      <td>1787072368000</td>\n",
       "      <td>-2.56</td>\n",
       "      <td>8.58</td>\n",
       "      <td>1.879608</td>\n",
       "    </tr>\n",
       "    <tr>\n",
       "      <th>343416</th>\n",
       "      <td>11</td>\n",
       "      <td>Walking</td>\n",
       "      <td>1867172313000</td>\n",
       "      <td>4.40</td>\n",
       "      <td>4.40</td>\n",
       "      <td>NaN</td>\n",
       "    </tr>\n",
       "    <tr>\n",
       "      <th>343417</th>\n",
       "      <td>11</td>\n",
       "      <td>Walking</td>\n",
       "      <td>1867222270000</td>\n",
       "      <td>5.48</td>\n",
       "      <td>8.43</td>\n",
       "      <td>9.724928</td>\n",
       "    </tr>\n",
       "  </tbody>\n",
       "</table>\n",
       "</div>"
      ]
     },
     "execution_count": 67,
     "metadata": {},
     "output_type": "execute_result"
    }
   ],
   "source": [
    "data.loc[343415:343417]"
   ]
  },
  {
   "cell_type": "code",
   "execution_count": 68,
   "metadata": {},
   "outputs": [
    {
     "data": {
      "text/html": [
       "<div>\n",
       "<style>\n",
       "    .dataframe thead tr:only-child th {\n",
       "        text-align: right;\n",
       "    }\n",
       "\n",
       "    .dataframe thead th {\n",
       "        text-align: left;\n",
       "    }\n",
       "\n",
       "    .dataframe tbody tr th {\n",
       "        vertical-align: top;\n",
       "    }\n",
       "</style>\n",
       "<table border=\"1\" class=\"dataframe\">\n",
       "  <thead>\n",
       "    <tr style=\"text-align: right;\">\n",
       "      <th></th>\n",
       "      <th>user</th>\n",
       "      <th>activity</th>\n",
       "      <th>timeastamp</th>\n",
       "      <th>x</th>\n",
       "      <th>y</th>\n",
       "      <th>z</th>\n",
       "    </tr>\n",
       "  </thead>\n",
       "  <tbody>\n",
       "    <tr>\n",
       "      <th>343415</th>\n",
       "      <td>11</td>\n",
       "      <td>Walking</td>\n",
       "      <td>1787072368000</td>\n",
       "      <td>-2.56</td>\n",
       "      <td>8.58</td>\n",
       "      <td>1.879608</td>\n",
       "    </tr>\n",
       "    <tr>\n",
       "      <th>343416</th>\n",
       "      <td>11</td>\n",
       "      <td>Walking</td>\n",
       "      <td>1867172313000</td>\n",
       "      <td>4.40</td>\n",
       "      <td>4.40</td>\n",
       "      <td>5.802268</td>\n",
       "    </tr>\n",
       "    <tr>\n",
       "      <th>343417</th>\n",
       "      <td>11</td>\n",
       "      <td>Walking</td>\n",
       "      <td>1867222270000</td>\n",
       "      <td>5.48</td>\n",
       "      <td>8.43</td>\n",
       "      <td>9.724928</td>\n",
       "    </tr>\n",
       "  </tbody>\n",
       "</table>\n",
       "</div>"
      ],
      "text/plain": [
       "<div>\n",
       "<style>\n",
       "    .dataframe thead tr:only-child th {\n",
       "        text-align: right;\n",
       "    }\n",
       "\n",
       "    .dataframe thead th {\n",
       "        text-align: left;\n",
       "    }\n",
       "\n",
       "    .dataframe tbody tr th {\n",
       "        vertical-align: top;\n",
       "    }\n",
       "</style>\n",
       "<table border=\"1\" class=\"dataframe\">\n",
       "  <thead>\n",
       "    <tr style=\"text-align: right;\">\n",
       "      <th></th>\n",
       "      <th>user</th>\n",
       "      <th>activity</th>\n",
       "      <th>timeastamp</th>\n",
       "      <th>x</th>\n",
       "      <th>y</th>\n",
       "      <th>z</th>\n",
       "    </tr>\n",
       "  </thead>\n",
       "  <tbody>\n",
       "    <tr>\n",
       "      <th>343415</th>\n",
       "      <td>11</td>\n",
       "      <td>Walking</td>\n",
       "      <td>1787072368000</td>\n",
       "      <td>-2.56</td>\n",
       "      <td>8.58</td>\n",
       "      <td>1.879608</td>\n",
       "    </tr>\n",
       "    <tr>\n",
       "      <th>343416</th>\n",
       "      <td>11</td>\n",
       "      <td>Walking</td>\n",
       "      <td>1867172313000</td>\n",
       "      <td>4.40</td>\n",
       "      <td>4.40</td>\n",
       "      <td>5.802268</td>\n",
       "    </tr>\n",
       "    <tr>\n",
       "      <th>343417</th>\n",
       "      <td>11</td>\n",
       "      <td>Walking</td>\n",
       "      <td>1867222270000</td>\n",
       "      <td>5.48</td>\n",
       "      <td>8.43</td>\n",
       "      <td>9.724928</td>\n",
       "    </tr>\n",
       "  </tbody>\n",
       "</table>\n",
       "</div>"
      ]
     },
     "execution_count": 68,
     "metadata": {},
     "output_type": "execute_result"
    }
   ],
   "source": [
    "data.loc[343415:343417]= data.loc[343415:343417].interpolate()\n",
    "data.loc[343415:343417]"
   ]
  },
  {
   "cell_type": "code",
   "execution_count": 69,
   "metadata": {},
   "outputs": [
    {
     "data": {
      "text/html": [
       "<div>\n",
       "<style>\n",
       "    .dataframe thead tr:only-child th {\n",
       "        text-align: right;\n",
       "    }\n",
       "\n",
       "    .dataframe thead th {\n",
       "        text-align: left;\n",
       "    }\n",
       "\n",
       "    .dataframe tbody tr th {\n",
       "        vertical-align: top;\n",
       "    }\n",
       "</style>\n",
       "<table border=\"1\" class=\"dataframe\">\n",
       "  <thead>\n",
       "    <tr style=\"text-align: right;\">\n",
       "      <th></th>\n",
       "      <th>user</th>\n",
       "      <th>activity</th>\n",
       "      <th>timeastamp</th>\n",
       "      <th>x</th>\n",
       "      <th>y</th>\n",
       "      <th>z</th>\n",
       "    </tr>\n",
       "  </thead>\n",
       "  <tbody>\n",
       "    <tr>\n",
       "      <th>371927</th>\n",
       "      <td>16</td>\n",
       "      <td>Downstairs</td>\n",
       "      <td>7160692302000</td>\n",
       "      <td>8.20</td>\n",
       "      <td>9.77</td>\n",
       "      <td>-5.094010</td>\n",
       "    </tr>\n",
       "    <tr>\n",
       "      <th>371928</th>\n",
       "      <td>16</td>\n",
       "      <td>Downstairs</td>\n",
       "      <td>7160742320000</td>\n",
       "      <td>4.79</td>\n",
       "      <td>7.31</td>\n",
       "      <td>NaN</td>\n",
       "    </tr>\n",
       "    <tr>\n",
       "      <th>371929</th>\n",
       "      <td>5</td>\n",
       "      <td>Walking</td>\n",
       "      <td>1202312298000</td>\n",
       "      <td>-0.95</td>\n",
       "      <td>5.01</td>\n",
       "      <td>1.648062</td>\n",
       "    </tr>\n",
       "  </tbody>\n",
       "</table>\n",
       "</div>"
      ],
      "text/plain": [
       "<div>\n",
       "<style>\n",
       "    .dataframe thead tr:only-child th {\n",
       "        text-align: right;\n",
       "    }\n",
       "\n",
       "    .dataframe thead th {\n",
       "        text-align: left;\n",
       "    }\n",
       "\n",
       "    .dataframe tbody tr th {\n",
       "        vertical-align: top;\n",
       "    }\n",
       "</style>\n",
       "<table border=\"1\" class=\"dataframe\">\n",
       "  <thead>\n",
       "    <tr style=\"text-align: right;\">\n",
       "      <th></th>\n",
       "      <th>user</th>\n",
       "      <th>activity</th>\n",
       "      <th>timeastamp</th>\n",
       "      <th>x</th>\n",
       "      <th>y</th>\n",
       "      <th>z</th>\n",
       "    </tr>\n",
       "  </thead>\n",
       "  <tbody>\n",
       "    <tr>\n",
       "      <th>371927</th>\n",
       "      <td>16</td>\n",
       "      <td>Downstairs</td>\n",
       "      <td>7160692302000</td>\n",
       "      <td>8.20</td>\n",
       "      <td>9.77</td>\n",
       "      <td>-5.094010</td>\n",
       "    </tr>\n",
       "    <tr>\n",
       "      <th>371928</th>\n",
       "      <td>16</td>\n",
       "      <td>Downstairs</td>\n",
       "      <td>7160742320000</td>\n",
       "      <td>4.79</td>\n",
       "      <td>7.31</td>\n",
       "      <td>NaN</td>\n",
       "    </tr>\n",
       "    <tr>\n",
       "      <th>371929</th>\n",
       "      <td>5</td>\n",
       "      <td>Walking</td>\n",
       "      <td>1202312298000</td>\n",
       "      <td>-0.95</td>\n",
       "      <td>5.01</td>\n",
       "      <td>1.648062</td>\n",
       "    </tr>\n",
       "  </tbody>\n",
       "</table>\n",
       "</div>"
      ]
     },
     "execution_count": 69,
     "metadata": {},
     "output_type": "execute_result"
    }
   ],
   "source": [
    "data.loc[371927:371929]"
   ]
  },
  {
   "cell_type": "code",
   "execution_count": 70,
   "metadata": {},
   "outputs": [
    {
     "data": {
      "text/html": [
       "<div>\n",
       "<style>\n",
       "    .dataframe thead tr:only-child th {\n",
       "        text-align: right;\n",
       "    }\n",
       "\n",
       "    .dataframe thead th {\n",
       "        text-align: left;\n",
       "    }\n",
       "\n",
       "    .dataframe tbody tr th {\n",
       "        vertical-align: top;\n",
       "    }\n",
       "</style>\n",
       "<table border=\"1\" class=\"dataframe\">\n",
       "  <thead>\n",
       "    <tr style=\"text-align: right;\">\n",
       "      <th></th>\n",
       "      <th>user</th>\n",
       "      <th>activity</th>\n",
       "      <th>timeastamp</th>\n",
       "      <th>x</th>\n",
       "      <th>y</th>\n",
       "      <th>z</th>\n",
       "    </tr>\n",
       "  </thead>\n",
       "  <tbody>\n",
       "    <tr>\n",
       "      <th>371927</th>\n",
       "      <td>16</td>\n",
       "      <td>Downstairs</td>\n",
       "      <td>7160692302000</td>\n",
       "      <td>8.20</td>\n",
       "      <td>9.77</td>\n",
       "      <td>-5.094010</td>\n",
       "    </tr>\n",
       "    <tr>\n",
       "      <th>371929</th>\n",
       "      <td>5</td>\n",
       "      <td>Walking</td>\n",
       "      <td>1202312298000</td>\n",
       "      <td>-0.95</td>\n",
       "      <td>5.01</td>\n",
       "      <td>1.648062</td>\n",
       "    </tr>\n",
       "  </tbody>\n",
       "</table>\n",
       "</div>"
      ],
      "text/plain": [
       "<div>\n",
       "<style>\n",
       "    .dataframe thead tr:only-child th {\n",
       "        text-align: right;\n",
       "    }\n",
       "\n",
       "    .dataframe thead th {\n",
       "        text-align: left;\n",
       "    }\n",
       "\n",
       "    .dataframe tbody tr th {\n",
       "        vertical-align: top;\n",
       "    }\n",
       "</style>\n",
       "<table border=\"1\" class=\"dataframe\">\n",
       "  <thead>\n",
       "    <tr style=\"text-align: right;\">\n",
       "      <th></th>\n",
       "      <th>user</th>\n",
       "      <th>activity</th>\n",
       "      <th>timeastamp</th>\n",
       "      <th>x</th>\n",
       "      <th>y</th>\n",
       "      <th>z</th>\n",
       "    </tr>\n",
       "  </thead>\n",
       "  <tbody>\n",
       "    <tr>\n",
       "      <th>371927</th>\n",
       "      <td>16</td>\n",
       "      <td>Downstairs</td>\n",
       "      <td>7160692302000</td>\n",
       "      <td>8.20</td>\n",
       "      <td>9.77</td>\n",
       "      <td>-5.094010</td>\n",
       "    </tr>\n",
       "    <tr>\n",
       "      <th>371929</th>\n",
       "      <td>5</td>\n",
       "      <td>Walking</td>\n",
       "      <td>1202312298000</td>\n",
       "      <td>-0.95</td>\n",
       "      <td>5.01</td>\n",
       "      <td>1.648062</td>\n",
       "    </tr>\n",
       "  </tbody>\n",
       "</table>\n",
       "</div>"
      ]
     },
     "execution_count": 70,
     "metadata": {},
     "output_type": "execute_result"
    }
   ],
   "source": [
    "data.loc[371927:371929]\n",
    "data = data.drop(371928)\n",
    "data.loc[371927:371929]"
   ]
  },
  {
   "cell_type": "code",
   "execution_count": 71,
   "metadata": {},
   "outputs": [
    {
     "data": {
      "text/html": [
       "<div>\n",
       "<style>\n",
       "    .dataframe thead tr:only-child th {\n",
       "        text-align: right;\n",
       "    }\n",
       "\n",
       "    .dataframe thead th {\n",
       "        text-align: left;\n",
       "    }\n",
       "\n",
       "    .dataframe tbody tr th {\n",
       "        vertical-align: top;\n",
       "    }\n",
       "</style>\n",
       "<table border=\"1\" class=\"dataframe\">\n",
       "  <thead>\n",
       "    <tr style=\"text-align: right;\">\n",
       "      <th></th>\n",
       "      <th>user</th>\n",
       "      <th>activity</th>\n",
       "      <th>timeastamp</th>\n",
       "      <th>x</th>\n",
       "      <th>y</th>\n",
       "      <th>z</th>\n",
       "    </tr>\n",
       "  </thead>\n",
       "  <tbody>\n",
       "    <tr>\n",
       "      <th>711478</th>\n",
       "      <td>30</td>\n",
       "      <td>Standing</td>\n",
       "      <td>1729682292000</td>\n",
       "      <td>-1.38</td>\n",
       "      <td>9.70</td>\n",
       "      <td>2.03</td>\n",
       "    </tr>\n",
       "    <tr>\n",
       "      <th>711479</th>\n",
       "      <td>30</td>\n",
       "      <td>Standing</td>\n",
       "      <td>1729732341000</td>\n",
       "      <td>-1.80</td>\n",
       "      <td>9.28</td>\n",
       "      <td>NaN</td>\n",
       "    </tr>\n",
       "    <tr>\n",
       "      <th>711480</th>\n",
       "      <td>34</td>\n",
       "      <td>Walking</td>\n",
       "      <td>295862346000</td>\n",
       "      <td>-4.10</td>\n",
       "      <td>9.28</td>\n",
       "      <td>-13.78</td>\n",
       "    </tr>\n",
       "  </tbody>\n",
       "</table>\n",
       "</div>"
      ],
      "text/plain": [
       "<div>\n",
       "<style>\n",
       "    .dataframe thead tr:only-child th {\n",
       "        text-align: right;\n",
       "    }\n",
       "\n",
       "    .dataframe thead th {\n",
       "        text-align: left;\n",
       "    }\n",
       "\n",
       "    .dataframe tbody tr th {\n",
       "        vertical-align: top;\n",
       "    }\n",
       "</style>\n",
       "<table border=\"1\" class=\"dataframe\">\n",
       "  <thead>\n",
       "    <tr style=\"text-align: right;\">\n",
       "      <th></th>\n",
       "      <th>user</th>\n",
       "      <th>activity</th>\n",
       "      <th>timeastamp</th>\n",
       "      <th>x</th>\n",
       "      <th>y</th>\n",
       "      <th>z</th>\n",
       "    </tr>\n",
       "  </thead>\n",
       "  <tbody>\n",
       "    <tr>\n",
       "      <th>711478</th>\n",
       "      <td>30</td>\n",
       "      <td>Standing</td>\n",
       "      <td>1729682292000</td>\n",
       "      <td>-1.38</td>\n",
       "      <td>9.70</td>\n",
       "      <td>2.03</td>\n",
       "    </tr>\n",
       "    <tr>\n",
       "      <th>711479</th>\n",
       "      <td>30</td>\n",
       "      <td>Standing</td>\n",
       "      <td>1729732341000</td>\n",
       "      <td>-1.80</td>\n",
       "      <td>9.28</td>\n",
       "      <td>NaN</td>\n",
       "    </tr>\n",
       "    <tr>\n",
       "      <th>711480</th>\n",
       "      <td>34</td>\n",
       "      <td>Walking</td>\n",
       "      <td>295862346000</td>\n",
       "      <td>-4.10</td>\n",
       "      <td>9.28</td>\n",
       "      <td>-13.78</td>\n",
       "    </tr>\n",
       "  </tbody>\n",
       "</table>\n",
       "</div>"
      ]
     },
     "execution_count": 71,
     "metadata": {},
     "output_type": "execute_result"
    }
   ],
   "source": [
    "data.loc[711478:711480]"
   ]
  },
  {
   "cell_type": "code",
   "execution_count": 72,
   "metadata": {},
   "outputs": [
    {
     "data": {
      "text/html": [
       "<div>\n",
       "<style>\n",
       "    .dataframe thead tr:only-child th {\n",
       "        text-align: right;\n",
       "    }\n",
       "\n",
       "    .dataframe thead th {\n",
       "        text-align: left;\n",
       "    }\n",
       "\n",
       "    .dataframe tbody tr th {\n",
       "        vertical-align: top;\n",
       "    }\n",
       "</style>\n",
       "<table border=\"1\" class=\"dataframe\">\n",
       "  <thead>\n",
       "    <tr style=\"text-align: right;\">\n",
       "      <th></th>\n",
       "      <th>user</th>\n",
       "      <th>activity</th>\n",
       "      <th>timeastamp</th>\n",
       "      <th>x</th>\n",
       "      <th>y</th>\n",
       "      <th>z</th>\n",
       "    </tr>\n",
       "  </thead>\n",
       "  <tbody>\n",
       "    <tr>\n",
       "      <th>711478</th>\n",
       "      <td>30</td>\n",
       "      <td>Standing</td>\n",
       "      <td>1729682292000</td>\n",
       "      <td>-1.38</td>\n",
       "      <td>9.70</td>\n",
       "      <td>2.03</td>\n",
       "    </tr>\n",
       "    <tr>\n",
       "      <th>711480</th>\n",
       "      <td>34</td>\n",
       "      <td>Walking</td>\n",
       "      <td>295862346000</td>\n",
       "      <td>-4.10</td>\n",
       "      <td>9.28</td>\n",
       "      <td>-13.78</td>\n",
       "    </tr>\n",
       "  </tbody>\n",
       "</table>\n",
       "</div>"
      ],
      "text/plain": [
       "<div>\n",
       "<style>\n",
       "    .dataframe thead tr:only-child th {\n",
       "        text-align: right;\n",
       "    }\n",
       "\n",
       "    .dataframe thead th {\n",
       "        text-align: left;\n",
       "    }\n",
       "\n",
       "    .dataframe tbody tr th {\n",
       "        vertical-align: top;\n",
       "    }\n",
       "</style>\n",
       "<table border=\"1\" class=\"dataframe\">\n",
       "  <thead>\n",
       "    <tr style=\"text-align: right;\">\n",
       "      <th></th>\n",
       "      <th>user</th>\n",
       "      <th>activity</th>\n",
       "      <th>timeastamp</th>\n",
       "      <th>x</th>\n",
       "      <th>y</th>\n",
       "      <th>z</th>\n",
       "    </tr>\n",
       "  </thead>\n",
       "  <tbody>\n",
       "    <tr>\n",
       "      <th>711478</th>\n",
       "      <td>30</td>\n",
       "      <td>Standing</td>\n",
       "      <td>1729682292000</td>\n",
       "      <td>-1.38</td>\n",
       "      <td>9.70</td>\n",
       "      <td>2.03</td>\n",
       "    </tr>\n",
       "    <tr>\n",
       "      <th>711480</th>\n",
       "      <td>34</td>\n",
       "      <td>Walking</td>\n",
       "      <td>295862346000</td>\n",
       "      <td>-4.10</td>\n",
       "      <td>9.28</td>\n",
       "      <td>-13.78</td>\n",
       "    </tr>\n",
       "  </tbody>\n",
       "</table>\n",
       "</div>"
      ]
     },
     "execution_count": 72,
     "metadata": {},
     "output_type": "execute_result"
    }
   ],
   "source": [
    "data = data.drop(711479)\n",
    "data.loc[711478:711480]"
   ]
  },
  {
   "cell_type": "code",
   "execution_count": 73,
   "metadata": {},
   "outputs": [
    {
     "data": {
      "text/html": [
       "<div>\n",
       "<style>\n",
       "    .dataframe thead tr:only-child th {\n",
       "        text-align: right;\n",
       "    }\n",
       "\n",
       "    .dataframe thead th {\n",
       "        text-align: left;\n",
       "    }\n",
       "\n",
       "    .dataframe tbody tr th {\n",
       "        vertical-align: top;\n",
       "    }\n",
       "</style>\n",
       "<table border=\"1\" class=\"dataframe\">\n",
       "  <thead>\n",
       "    <tr style=\"text-align: right;\">\n",
       "      <th></th>\n",
       "      <th>user</th>\n",
       "      <th>activity</th>\n",
       "      <th>timeastamp</th>\n",
       "      <th>x</th>\n",
       "      <th>y</th>\n",
       "      <th>z</th>\n",
       "    </tr>\n",
       "  </thead>\n",
       "  <tbody>\n",
       "    <tr>\n",
       "      <th>711476</th>\n",
       "      <td>30</td>\n",
       "      <td>Standing</td>\n",
       "      <td>1729582316000</td>\n",
       "      <td>-3.06</td>\n",
       "      <td>8.73</td>\n",
       "      <td>1.99</td>\n",
       "    </tr>\n",
       "    <tr>\n",
       "      <th>711477</th>\n",
       "      <td>30</td>\n",
       "      <td>Standing</td>\n",
       "      <td>1729632335000</td>\n",
       "      <td>-3.64</td>\n",
       "      <td>8.96</td>\n",
       "      <td>1.69</td>\n",
       "    </tr>\n",
       "    <tr>\n",
       "      <th>711478</th>\n",
       "      <td>30</td>\n",
       "      <td>Standing</td>\n",
       "      <td>1729682292000</td>\n",
       "      <td>-1.38</td>\n",
       "      <td>9.70</td>\n",
       "      <td>2.03</td>\n",
       "    </tr>\n",
       "    <tr>\n",
       "      <th>711480</th>\n",
       "      <td>34</td>\n",
       "      <td>Walking</td>\n",
       "      <td>295862346000</td>\n",
       "      <td>-4.10</td>\n",
       "      <td>9.28</td>\n",
       "      <td>-13.78</td>\n",
       "    </tr>\n",
       "    <tr>\n",
       "      <th>711481</th>\n",
       "      <td>34</td>\n",
       "      <td>Walking</td>\n",
       "      <td>295912334000</td>\n",
       "      <td>-5.63</td>\n",
       "      <td>-2.30</td>\n",
       "      <td>-4.02</td>\n",
       "    </tr>\n",
       "  </tbody>\n",
       "</table>\n",
       "</div>"
      ],
      "text/plain": [
       "<div>\n",
       "<style>\n",
       "    .dataframe thead tr:only-child th {\n",
       "        text-align: right;\n",
       "    }\n",
       "\n",
       "    .dataframe thead th {\n",
       "        text-align: left;\n",
       "    }\n",
       "\n",
       "    .dataframe tbody tr th {\n",
       "        vertical-align: top;\n",
       "    }\n",
       "</style>\n",
       "<table border=\"1\" class=\"dataframe\">\n",
       "  <thead>\n",
       "    <tr style=\"text-align: right;\">\n",
       "      <th></th>\n",
       "      <th>user</th>\n",
       "      <th>activity</th>\n",
       "      <th>timeastamp</th>\n",
       "      <th>x</th>\n",
       "      <th>y</th>\n",
       "      <th>z</th>\n",
       "    </tr>\n",
       "  </thead>\n",
       "  <tbody>\n",
       "    <tr>\n",
       "      <th>711476</th>\n",
       "      <td>30</td>\n",
       "      <td>Standing</td>\n",
       "      <td>1729582316000</td>\n",
       "      <td>-3.06</td>\n",
       "      <td>8.73</td>\n",
       "      <td>1.99</td>\n",
       "    </tr>\n",
       "    <tr>\n",
       "      <th>711477</th>\n",
       "      <td>30</td>\n",
       "      <td>Standing</td>\n",
       "      <td>1729632335000</td>\n",
       "      <td>-3.64</td>\n",
       "      <td>8.96</td>\n",
       "      <td>1.69</td>\n",
       "    </tr>\n",
       "    <tr>\n",
       "      <th>711478</th>\n",
       "      <td>30</td>\n",
       "      <td>Standing</td>\n",
       "      <td>1729682292000</td>\n",
       "      <td>-1.38</td>\n",
       "      <td>9.70</td>\n",
       "      <td>2.03</td>\n",
       "    </tr>\n",
       "    <tr>\n",
       "      <th>711480</th>\n",
       "      <td>34</td>\n",
       "      <td>Walking</td>\n",
       "      <td>295862346000</td>\n",
       "      <td>-4.10</td>\n",
       "      <td>9.28</td>\n",
       "      <td>-13.78</td>\n",
       "    </tr>\n",
       "    <tr>\n",
       "      <th>711481</th>\n",
       "      <td>34</td>\n",
       "      <td>Walking</td>\n",
       "      <td>295912334000</td>\n",
       "      <td>-5.63</td>\n",
       "      <td>-2.30</td>\n",
       "      <td>-4.02</td>\n",
       "    </tr>\n",
       "  </tbody>\n",
       "</table>\n",
       "</div>"
      ]
     },
     "execution_count": 73,
     "metadata": {},
     "output_type": "execute_result"
    }
   ],
   "source": [
    "data.loc[711476:711481]"
   ]
  },
  {
   "cell_type": "markdown",
   "metadata": {},
   "source": [
    "#### Index reset after dropping rows"
   ]
  },
  {
   "cell_type": "code",
   "execution_count": 74,
   "metadata": {},
   "outputs": [],
   "source": [
    "data = data.reset_index()\n",
    "data = data.drop('index', axis = 1)"
   ]
  },
  {
   "cell_type": "markdown",
   "metadata": {},
   "source": [
    "### Spectrogram Analysis"
   ]
  },
  {
   "cell_type": "code",
   "execution_count": 76,
   "metadata": {
    "collapsed": false
   },
   "outputs": [
    {
     "data": {
      "image/png": "[encoded data removed]",
      "text/plain": [
       "<matplotlib.figure.Figure at 0x115da0358>"
      ]
     },
     "metadata": {},
     "output_type": "display_data"
    },
    {
     "data": {
      "image/png": "[encoded data removed]",
      "text/plain": [
       "<matplotlib.figure.Figure at 0x114ae2470>"
      ]
     },
     "metadata": {},
     "output_type": "display_data"
    },
    {
     "data": {
      "image/png": "[encoded data removed]",
      "text/plain": [
       "<matplotlib.figure.Figure at 0x1196c4d68>"
      ]
     },
     "metadata": {},
     "output_type": "display_data"
    }
   ],
   "source": [
    "fs = 20\n",
    "data_x = data['x']\n",
    "data_y = data['y']\n",
    "data_z = data['z']\n",
    "\n",
    "plt.plot(figsize=(20,20))\n",
    "f_x, t_x, S_x = signal.spectrogram(data_x, fs)\n",
    "plt.pcolormesh(t_x, f_x, S_x)\n",
    "plt.title('x channel')\n",
    "plt.ylabel('Frequency [Hz]')\n",
    "plt.xlabel('Time [sec]')\n",
    "plt.show()\n",
    "\n",
    "\n",
    "f_y, t_y, S_y = signal.spectrogram(data_y, fs)\n",
    "plt.title('y channel')\n",
    "\n",
    "plt.pcolormesh(t_y, f_y, S_y)\n",
    "plt.ylabel('Frequency [Hz]')\n",
    "plt.xlabel('Time [sec]')\n",
    "plt.show()\n",
    "\n",
    "\n",
    "f_z, t_z, S_z = signal.spectrogram(data_z, fs)\n",
    "plt.title('z channel')\n",
    "plt.pcolormesh(t_z, f_z, S_z)\n",
    "plt.ylabel('Frequency [Hz]')\n",
    "plt.xlabel('Time [sec]')\n",
    "plt.show()"
   ]
  },
  {
   "cell_type": "markdown",
   "metadata": {},
   "source": [
    "#### Plot in time domain"
   ]
  },
  {
   "cell_type": "code",
   "execution_count": 77,
   "metadata": {
    "collapsed": false
   },
   "outputs": [
    {
     "data": {
      "text/plain": [
       "<matplotlib.axes._subplots.AxesSubplot at 0x115bc8b00>"
      ]
     },
     "execution_count": 77,
     "metadata": {},
     "output_type": "execute_result"
    },
    {
     "data": {
      "image/png": "[encoded data removed]",
      "text/plain": [
       "<matplotlib.figure.Figure at 0x11c05d860>"
      ]
     },
     "metadata": {},
     "output_type": "display_data"
    }
   ],
   "source": [
    "data[['x','y', 'z']] .plot()"
   ]
  },
  {
   "cell_type": "code",
   "execution_count": 78,
   "metadata": {
    "collapsed": true
   },
   "outputs": [],
   "source": [
    "# For performing normalisation: http://stackoverflow.com/questions/12525722/normalize-data-in-pandas\n",
    "# Min-max normalisation\n",
    "data[['x','y', 'z']]  = (data[['x','y', 'z']]  - data[['x','y', 'z']].min())/ (data[['x','y', 'z']].max()-data[['x','y', 'z']].min())"
   ]
  },
  {
   "cell_type": "markdown",
   "metadata": {},
   "source": [
    "#### Check range"
   ]
  },
  {
   "cell_type": "code",
   "execution_count": 79,
   "metadata": {},
   "outputs": [
    {
     "data": {
      "text/plain": [
       "x    0.0\ny    0.0\nz    0.0\ndtype: float64"
      ]
     },
     "execution_count": 79,
     "metadata": {},
     "output_type": "execute_result"
    }
   ],
   "source": [
    "data[['x','y', 'z']].min()"
   ]
  },
  {
   "cell_type": "code",
   "execution_count": 80,
   "metadata": {},
   "outputs": [
    {
     "data": {
      "text/plain": [
       "x    1.0\ny    1.0\nz    1.0\ndtype: float64"
      ]
     },
     "execution_count": 80,
     "metadata": {},
     "output_type": "execute_result"
    }
   ],
   "source": [
    "data[['x','y', 'z']].max()"
   ]
  },
  {
   "cell_type": "code",
   "execution_count": 81,
   "metadata": {},
   "outputs": [
    {
     "data": {
      "text/html": [
       "<div>\n",
       "<style>\n",
       "    .dataframe thead tr:only-child th {\n",
       "        text-align: right;\n",
       "    }\n",
       "\n",
       "    .dataframe thead th {\n",
       "        text-align: left;\n",
       "    }\n",
       "\n",
       "    .dataframe tbody tr th {\n",
       "        vertical-align: top;\n",
       "    }\n",
       "</style>\n",
       "<table border=\"1\" class=\"dataframe\">\n",
       "  <thead>\n",
       "    <tr style=\"text-align: right;\">\n",
       "      <th></th>\n",
       "      <th>user</th>\n",
       "      <th>activity</th>\n",
       "      <th>timeastamp</th>\n",
       "      <th>x</th>\n",
       "      <th>y</th>\n",
       "      <th>z</th>\n",
       "    </tr>\n",
       "  </thead>\n",
       "  <tbody>\n",
       "    <tr>\n",
       "      <th>0</th>\n",
       "      <td>33</td>\n",
       "      <td>Jogging</td>\n",
       "      <td>49105962326000</td>\n",
       "      <td>0.478144</td>\n",
       "      <td>0.814390</td>\n",
       "      <td>0.515198</td>\n",
       "    </tr>\n",
       "    <tr>\n",
       "      <th>1</th>\n",
       "      <td>33</td>\n",
       "      <td>Jogging</td>\n",
       "      <td>49106062271000</td>\n",
       "      <td>0.622404</td>\n",
       "      <td>0.778664</td>\n",
       "      <td>0.526603</td>\n",
       "    </tr>\n",
       "    <tr>\n",
       "      <th>2</th>\n",
       "      <td>33</td>\n",
       "      <td>Jogging</td>\n",
       "      <td>49106112167000</td>\n",
       "      <td>0.619649</td>\n",
       "      <td>0.769046</td>\n",
       "      <td>0.500337</td>\n",
       "    </tr>\n",
       "    <tr>\n",
       "      <th>3</th>\n",
       "      <td>33</td>\n",
       "      <td>Jogging</td>\n",
       "      <td>49106222305000</td>\n",
       "      <td>0.480209</td>\n",
       "      <td>0.961070</td>\n",
       "      <td>0.579135</td>\n",
       "    </tr>\n",
       "    <tr>\n",
       "      <th>4</th>\n",
       "      <td>33</td>\n",
       "      <td>Jogging</td>\n",
       "      <td>49106332290000</td>\n",
       "      <td>0.465749</td>\n",
       "      <td>0.799962</td>\n",
       "      <td>0.685236</td>\n",
       "    </tr>\n",
       "  </tbody>\n",
       "</table>\n",
       "</div>"
      ],
      "text/plain": [
       "<div>\n",
       "<style>\n",
       "    .dataframe thead tr:only-child th {\n",
       "        text-align: right;\n",
       "    }\n",
       "\n",
       "    .dataframe thead th {\n",
       "        text-align: left;\n",
       "    }\n",
       "\n",
       "    .dataframe tbody tr th {\n",
       "        vertical-align: top;\n",
       "    }\n",
       "</style>\n",
       "<table border=\"1\" class=\"dataframe\">\n",
       "  <thead>\n",
       "    <tr style=\"text-align: right;\">\n",
       "      <th></th>\n",
       "      <th>user</th>\n",
       "      <th>activity</th>\n",
       "      <th>timeastamp</th>\n",
       "      <th>x</th>\n",
       "      <th>y</th>\n",
       "      <th>z</th>\n",
       "    </tr>\n",
       "  </thead>\n",
       "  <tbody>\n",
       "    <tr>\n",
       "      <th>0</th>\n",
       "      <td>33</td>\n",
       "      <td>Jogging</td>\n",
       "      <td>49105962326000</td>\n",
       "      <td>0.478144</td>\n",
       "      <td>0.814390</td>\n",
       "      <td>0.515198</td>\n",
       "    </tr>\n",
       "    <tr>\n",
       "      <th>1</th>\n",
       "      <td>33</td>\n",
       "      <td>Jogging</td>\n",
       "      <td>49106062271000</td>\n",
       "      <td>0.622404</td>\n",
       "      <td>0.778664</td>\n",
       "      <td>0.526603</td>\n",
       "    </tr>\n",
       "    <tr>\n",
       "      <th>2</th>\n",
       "      <td>33</td>\n",
       "      <td>Jogging</td>\n",
       "      <td>49106112167000</td>\n",
       "      <td>0.619649</td>\n",
       "      <td>0.769046</td>\n",
       "      <td>0.500337</td>\n",
       "    </tr>\n",
       "    <tr>\n",
       "      <th>3</th>\n",
       "      <td>33</td>\n",
       "      <td>Jogging</td>\n",
       "      <td>49106222305000</td>\n",
       "      <td>0.480209</td>\n",
       "      <td>0.961070</td>\n",
       "      <td>0.579135</td>\n",
       "    </tr>\n",
       "    <tr>\n",
       "      <th>4</th>\n",
       "      <td>33</td>\n",
       "      <td>Jogging</td>\n",
       "      <td>49106332290000</td>\n",
       "      <td>0.465749</td>\n",
       "      <td>0.799962</td>\n",
       "      <td>0.685236</td>\n",
       "    </tr>\n",
       "  </tbody>\n",
       "</table>\n",
       "</div>"
      ]
     },
     "execution_count": 81,
     "metadata": {},
     "output_type": "execute_result"
    }
   ],
   "source": [
    "data.head()"
   ]
  },
  {
   "cell_type": "markdown",
   "metadata": {},
   "source": [
    "#### Write cleaned data to new file. "
   ]
  },
  {
   "cell_type": "code",
   "execution_count": 82,
   "metadata": {},
   "outputs": [],
   "source": [
    "filename = './data/cleaned_WISDM_v1'\n",
    "data.to_csv(filename, index=False)"
   ]
  },
  {
   "cell_type": "code",
   "execution_count": 95,
   "metadata": {
    "collapsed": true
   },
   "outputs": [
    {
     "data": {
      "text/plain": [
       "<matplotlib.figure.Figure at 0x11c04bdd8>"
      ]
     },
     "execution_count": 0,
     "metadata": {},
     "output_type": "execute_result"
    },
    {
     "data": {
      "text/plain": [
       "<matplotlib.figure.Figure at 0x11c04b908>"
      ]
     },
     "execution_count": 0,
     "metadata": {},
     "output_type": "execute_result"
    },
    {
     "data": {
      "image/png": "[encoded data removed]",
      "text/plain": [
       "<matplotlib.figure.Figure at 0x11769b080>"
      ]
     },
     "metadata": {},
     "output_type": "display_data"
    }
   ],
   "source": [
    "from cycler import cycler\n",
    "\n",
    "\n",
    "fig = plt.figure()\n",
    "plt.figure(figsize=(10,10))\n",
    "plt.rcParams['font.serif'] = 'serif'\n",
    "plt.rcParams['axes.labelweight'] = 'bold'\n",
    "plt.rcParams['axes.labelsize'] = 14\n",
    "plt.rcParams['font.size'] = 12\n",
    "plt.rcParams['xtick.labelsize'] = 12\n",
    "plt.rcParams['ytick.labelsize'] = 12\n",
    "\n",
    "width, height = plt.figaspect(0.5)\n",
    "fig = plt.figure(figsize=(width,height), dpi=100)\n",
    "\n",
    "plt.rc('axes', prop_cycle=(cycler('color', ['#80BFE3'])))\n",
    "\n",
    "labels = []\n",
    "label_counts = []\n",
    "# Place keys and values into list to maintain order. \n",
    "for k, v in data.activity.value_counts(dropna=False).items():\n",
    "    labels.append(k)\n",
    "    label_counts.append(v)\n",
    "y = np.arange(len(labels))\n",
    "\n",
    "plt.bar(y, label_counts, )\n",
    "plt.xticks(y, labels)\n",
    "plt.ylabel('Activity count')\n",
    "plt.title('Activity')\n",
    "\n",
    "barlist=plt.bar(y, label_counts )\n",
    "\n",
    "plt.show()\n",
    "fig.savefig('class_distribution')"
   ]
  }
 ],
 "metadata": {
  "anaconda-cloud": {},
  "kernelspec": {
   "display_name": "Python [default]",
   "language": "python",
   "name": "python3"
  },
  "language_info": {
   "codemirror_mode": {
    "name": "ipython",
    "version": 3
   },
   "file_extension": ".py",
   "mimetype": "text/x-python",
   "name": "python",
   "nbconvert_exporter": "python",
   "pygments_lexer": "ipython3",
   "version": "3.5.2"
  }
 },
 "nbformat": 4,
 "nbformat_minor": 0
}
